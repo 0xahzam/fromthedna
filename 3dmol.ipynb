{
 "cells": [
  {
   "cell_type": "code",
   "execution_count": null,
   "metadata": {},
   "outputs": [],
   "source": [
    "! pip install py3Dmol"
   ]
  },
  {
   "cell_type": "code",
   "execution_count": null,
   "metadata": {},
   "outputs": [],
   "source": [
    "import py3Dmol\n",
    "\n",
    "def py3dmol(file, label):\n",
    "    # create a new view object\n",
    "    view = py3Dmol.view()\n",
    "\n",
    "    # add the PDB file\n",
    "    view.addModel(\n",
    "        open(file, 'r').read(), 'pdb')\n",
    "\n",
    "    view.setStyle({'model': 0}, {'cartoon': {'color': 'spectrum'}})\n",
    "\n",
    "    view.addLabel(label, {'fontSize': 14, 'backgroundColor': 'black',\n",
    "                          'fontColor': 'white', 'position': {'x': 0, 'y': 0, 'z': 0}})\n",
    "\n",
    "    # zoom to the center of the proteins\n",
    "    view.zoomTo()\n",
    "\n",
    "    # show the final view\n",
    "    view.show()\n",
    "\n"
   ]
  },
  {
   "cell_type": "code",
   "execution_count": null,
   "metadata": {},
   "outputs": [],
   "source": [
    "# DNA FORWARD\n",
    "py3dmol('./sequence-data/dna-forward/dna_orf_1.pdb', \"DNA FORWARD ORF 1\")\n",
    "py3dmol('./sequence-data/dna-forward/dna_orf_2.pdb', \"DNA FORWARD ORF 2\")\n",
    "py3dmol('./sequence-data/dna-forward/dna_orf_3.pdb', \"DNA FORWARD ORF 3\")\n",
    "\n",
    "# DNA REVERSE\n",
    "py3dmol('./sequence-data/dna-reverse/neg_dna_orf_1.pdb', \"DNA REVERSE ORF 1\")\n",
    "py3dmol('./sequence-data/dna-reverse/neg_dna_orf_2.pdb', \"DNA REVERSE ORF 2\")\n",
    "py3dmol('./sequence-data/dna-reverse/neg_dna_orf_3.pdb', \"DNA REVERSE ORF 3\")\n",
    "\n",
    "# RNA FORWARD\n",
    "py3dmol('./sequence-data/rna-forward/rna_orf_1.pdb', \"RNA FORWARD ORF 1\")\n",
    "py3dmol('./sequence-data/rna-forward/rna_orf_2.pdb', \"RNA FORWARD ORF 2\")\n",
    "py3dmol('./sequence-data/rna-forward/rna_orf_3.pdb', \"RNA FORWARD ORF 3\")\n",
    "\n",
    "# RNA REVERSE\n",
    "py3dmol('./sequence-data/rna-forward/neg_rna_orf_1.pdb', \"RNA REVERSE ORF 1\")\n",
    "py3dmol('./sequence-data/rna-forward/neg_rna_orf_2.pdb', \"RNA REVERSE ORF 2\")\n",
    "py3dmol('./sequence-data/rna-forward/neg_rna_orf_3.pdb', \"RNA REVERSE ORF 3\")"
   ]
  }
 ],
 "metadata": {
  "kernelspec": {
   "display_name": "Python 3",
   "language": "python",
   "name": "python3"
  },
  "language_info": {
   "name": "python",
   "version": "3.8.8"
  },
  "orig_nbformat": 4,
  "vscode": {
   "interpreter": {
    "hash": "de2d1f70b8f213e2a3c67d3c5832fd85cf96929e55864415448fb74fa1ee732d"
   }
  }
 },
 "nbformat": 4,
 "nbformat_minor": 2
}
